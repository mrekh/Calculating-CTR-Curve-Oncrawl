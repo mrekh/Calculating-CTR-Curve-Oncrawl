{
 "cells": [
  {
   "cell_type": "markdown",
   "id": "9c971121-e47a-4341-9eaa-c21bb3b2abf7",
   "metadata": {
    "tags": []
   },
   "source": [
    "# Calculating CTR curve with Python"
   ]
  },
  {
   "cell_type": "markdown",
   "id": "eadb111b-12d0-4287-b7f1-5acd31eb4200",
   "metadata": {},
   "source": [
    "This notebook contains two different Methods for calculating the CTR curve, but there are some things in both of the ways to do. The next few cells are the same things for both solutions."
   ]
  },
  {
   "cell_type": "code",
   "execution_count": null,
   "id": "d8669f6d-4da7-4d7e-ab53-42ef1af74408",
   "metadata": {},
   "outputs": [],
   "source": [
    "'''Calculating CTR curve with Python'''\n",
    "# Importing needed libraries for our process\n",
    "import os\n",
    "import json\n",
    "import pandas as pd\n",
    "import plotly.express as px\n",
    "import plotly.io as pio\n",
    "import kaleido"
   ]
  },
  {
   "cell_type": "code",
   "execution_count": null,
   "id": "c2d13cfa-00fb-455f-a571-29fd27a84251",
   "metadata": {},
   "outputs": [],
   "source": [
    "# Creating plot images output folder\n",
    "if not os.path.exists('./output plot images'):\n",
    "    os.mkdir('./output plot images')"
   ]
  },
  {
   "cell_type": "code",
   "execution_count": null,
   "id": "3a34cca7-3647-408a-a5ee-13b7d4c4ca29",
   "metadata": {},
   "outputs": [],
   "source": [
    "# Setting width and height of the output plot images\n",
    "pio.kaleido.scope.default_height = 800\n",
    "pio.kaleido.scope.default_width = 2000"
   ]
  },
  {
   "cell_type": "markdown",
   "id": "99aa2088-661e-4c24-b025-49e32cb485e1",
   "metadata": {
    "tags": []
   },
   "source": [
    "## First way: Calculate CTR curve for whole website or a specific URL property"
   ]
  },
  {
   "cell_type": "code",
   "execution_count": null,
   "id": "f3b0da84-7730-4810-9051-06967c3f32ac",
   "metadata": {},
   "outputs": [],
   "source": [
    "''' The best practice for the folder structure of our project is to have a 'data' folder, and put all of our data here.\n",
    "Here for ease of doing, I didn't do this.\n",
    "'''\n",
    "\n",
    "query_df = pd.read_csv('./downloaded_data.csv')"
   ]
  },
  {
   "cell_type": "code",
   "execution_count": null,
   "id": "a7f240af-d240-465b-9a55-40ee96466618",
   "metadata": {},
   "outputs": [],
   "source": [
    "# Labeling queries position from 1 to 10\n",
    "for i in range(1, 11):\n",
    "    query_df.loc[(query_df['Average Position'] >= i) & (\n",
    "        query_df['Average Position'] < i + 1), 'position label'] = i"
   ]
  },
  {
   "cell_type": "code",
   "execution_count": null,
   "id": "cc6d8800-b9f2-4d2a-ac58-3b6c8050a8d8",
   "metadata": {},
   "outputs": [],
   "source": [
    "# Creating a grouped DataFrame based on the 'Pos label' column\n",
    "query_grouped_df = query_df.groupby(['position label'])"
   ]
  },
  {
   "cell_type": "code",
   "execution_count": null,
   "id": "182def7a-49b2-455f-95b7-14b8722589dc",
   "metadata": {},
   "outputs": [],
   "source": [
    "# Creating a DataFrame for storing 'query_df' manipulated data\n",
    "modified_df = pd.DataFrame()\n",
    "\n",
    "# A list for saving each position mean for our bar chart\n",
    "mean_ctr_list = []"
   ]
  },
  {
   "cell_type": "code",
   "execution_count": null,
   "id": "af97edf8-2548-4f8f-8974-01fada31ccdd",
   "metadata": {},
   "outputs": [],
   "source": [
    "''' Looping over 'query_grouped_df' groups and append the top 20% queries based on the impressions to the 'modified_df' DataFrame.\n",
    "If calculating CTR only based on the top 20% of queries having the most impressions is not the best for you, you can change it.\n",
    "For changing it, you can increase or decrease it by manipulating '.quantile(q=your_optimal_number, interpolation='lower')]'.\n",
    "'you_optimal_number' must be between 0 to 1.\n",
    "For example, if you want to get the top 30% of your queries, 'your_optimal_num' is the difference between 1 and ‌0.3 (0.7).\n",
    "'''\n",
    "\n",
    "for i in range(1, 11):\n",
    "    tmp_df = query_grouped_df.get_group(i) \\\n",
    "        [query_grouped_df.get_group(i)['Impressions'] >= query_grouped_df.get_group(i)['Impressions']\n",
    "        .quantile(q=0.8, interpolation='lower')]\n",
    "    mean_ctr_list.append(tmp_df['Site CTR'].mean())\n",
    "    modified_df = modified_df.append(tmp_df, ignore_index=True)\n",
    "\n",
    "# Deleting 'tmp_df' DataFrame for reducing memory usage\n",
    "del [tmp_df]"
   ]
  },
  {
   "cell_type": "code",
   "execution_count": null,
   "id": "b83a2b0a-9b07-4673-81d4-db0c251e5c00",
   "metadata": {},
   "outputs": [],
   "source": [
    "# 1. The box plot\n",
    "box_fig = px.box(\n",
    "    modified_df,\n",
    "    x='position label',\n",
    "    y='Site CTR',\n",
    "    title='Queries CTR distribution based on position',\n",
    "    points='all',\n",
    "    color='position label',\n",
    "    labels={'position label': 'Position', 'Site CTR': 'CTR'})\n",
    "\n",
    "# Showing all ten x-axes ticks\n",
    "box_fig.update_xaxes(tickvals=list(range(1, 11)))\n",
    "\n",
    "# Changing the y-axes tick format to percentage\n",
    "box_fig.update_yaxes(tickformat=\".0%\")\n",
    "\n",
    "# Saving plot to 'output plot images' directory\n",
    "box_fig.write_image('./output plot images/Queries box plot CTR curve.png')"
   ]
  },
  {
   "cell_type": "code",
   "execution_count": null,
   "id": "b723d215-bc40-4766-8b79-27dde9156455",
   "metadata": {},
   "outputs": [],
   "source": [
    "# 2. The bar plot\n",
    "bar_fig = px.bar(\n",
    "    x=list(range(1, 11)),\n",
    "    y=mean_ctr_list,\n",
    "    title='Queries mean CTR distribution based on position',\n",
    "    labels={'x': 'Position', 'y': 'CTR'},\n",
    "    text_auto=True)\n",
    "\n",
    "# Showing all ten x-axes ticks\n",
    "bar_fig.update_xaxes(tickvals=list(range(1, 11)))\n",
    "\n",
    "# Changing the y-axes tick format to percentage\n",
    "bar_fig.update_yaxes(tickformat='.0%')\n",
    "\n",
    "# Saving plot to 'output plot images' directory\n",
    "bar_fig.write_image('./output plot images/Queries bar plot CTR curve.png')"
   ]
  },
  {
   "cell_type": "markdown",
   "id": "2fcfaba1-ba08-45c8-82bb-5e2f618d99ca",
   "metadata": {
    "tags": []
   },
   "source": [
    "## Second way: Calculating CTR curve based on landing pages URL for each directory"
   ]
  },
  {
   "cell_type": "code",
   "execution_count": null,
   "id": "3a59d5e0-15aa-4cb3-9a37-40552349a15b",
   "metadata": {},
   "outputs": [],
   "source": [
    "# Creating a DataFrame for the downloaded data\n",
    "with open('./downloaded_data.json') as json_file:\n",
    "    landings_data = json.loads(json_file.read())['rows']\n",
    "    landings_df = pd.DataFrame(landings_data)\n",
    "\n",
    "# Renaming 'keys' column to 'landing page' column and converting 'landing page' list to an URL\n",
    "landings_df.rename(columns={'keys': 'landing page'}, inplace=True)\n",
    "landings_df['landing page'] = landings_df['landing page'].apply(lambda x: x[0])\n",
    "\n",
    "# If you have a CSV file for your landing pages, you can uncomment the line below on comment the second cell line and comment above lines\n",
    "# landings_df = pd.read_csv('./downloaded_data.csv')"
   ]
  },
  {
   "cell_type": "code",
   "execution_count": null,
   "id": "a760a3fc-56e3-4c24-a1f7-bbf20352c8e6",
   "metadata": {},
   "outputs": [],
   "source": [
    "# Defining your site name between quotes. For example, 'https://www.example.com/' or 'http://mydomain.com/'\n",
    "SITE_NAME = ''"
   ]
  },
  {
   "cell_type": "code",
   "execution_count": null,
   "id": "89ad3735-8736-4ba1-9eab-aeb60db5fccd",
   "metadata": {},
   "outputs": [],
   "source": [
    "# Getting each landing page (URL) directory\n",
    "landings_df['directory'] = landings_df['landing page'].str.extract(pat=f'((?<={SITE_NAME})[^/]+)')"
   ]
  },
  {
   "cell_type": "code",
   "execution_count": null,
   "id": "f1c18131-804a-42ec-af7d-3f5f591c1f72",
   "metadata": {},
   "outputs": [],
   "source": [
    "# For getting all directories in the output, we need to manipulate Pandas options\n",
    "pd.set_option(\"display.max_rows\", None)\n",
    "\n",
    "# Website directories\n",
    "landings_df['directory'].value_counts()"
   ]
  },
  {
   "cell_type": "code",
   "execution_count": null,
   "id": "007b119f-6151-46cb-98bb-5b4b01cbc858",
   "metadata": {},
   "outputs": [],
   "source": [
    "''' Choose which directories are important for getting their CTR curve.\n",
    "Insert the directories into the 'important_directories' variable. \n",
    "For example, 'product,tag,product-category,mag'. Separate directory values with comma.\n",
    "'''\n",
    "\n",
    "IMPORTANT_DIRECTORIES = ''\n",
    "IMPORTANT_DIRECTORIES = IMPORTANT_DIRECTORIES.split(',')"
   ]
  },
  {
   "cell_type": "code",
   "execution_count": null,
   "id": "caaa6815-d572-4936-a058-0cc67095fa2f",
   "metadata": {},
   "outputs": [],
   "source": [
    "# Labeling landing pages position\n",
    "for i in range(1, 11):\n",
    "    landings_df.loc[(landings_df['position'] >= i) & (\n",
    "        landings_df['position'] < i + 1), 'position label'] = i"
   ]
  },
  {
   "cell_type": "code",
   "execution_count": null,
   "id": "1cd5be45-04ec-48cc-86c8-8c608b1944d4",
   "metadata": {},
   "outputs": [],
   "source": [
    "# Grouping landing pages based on their 'directory' value\n",
    "landings_grouped_df = landings_df.groupby(['directory'])"
   ]
  },
  {
   "cell_type": "code",
   "execution_count": null,
   "id": "8386e2ac-4e80-4987-a673-473f1ec025a2",
   "metadata": {},
   "outputs": [],
   "source": [
    "def each_dir_plot(dir_df, key):\n",
    "    '''The function for creating and saving each directory charts'''\n",
    "    # Grouping directory landing pages based on their 'position label' value\n",
    "    dir_grouped_df = dir_df.groupby(['position label'])\n",
    "\n",
    "    # Creating a DataFrame for storing 'dir_grouped_df' manipulated data\n",
    "    modified_dataframe = pd.DataFrame()\n",
    "\n",
    "    # A list for saving each position mean for our bar chart\n",
    "    mean_ctr_list = []\n",
    "\n",
    "    # Looping over 'query_grouped_df' groups and append the top 20% queries based on the impressions to the 'modified_dataframe' DataFrame.\n",
    "    # If calculating CTR only based on the top 20% of queries having the most impressions is not the best for you, you can change it.\n",
    "    # For changing it, you can increase or decrease it by manipulating '.quantile(q=your_optimal_number, interpolation='lower')]'.\n",
    "    # 'you_optimal_number' must be between 0 to 1.\n",
    "    # For example, if you want to get the top 30% of your queries, 'your_optimal_num' is the difference between 1 and ‌0.3 (0.7).\n",
    "\n",
    "    for t in range(1, 11):\n",
    "        tmp_df = dir_grouped_df.get_group(t) \\\n",
    "            [dir_grouped_df.get_group(t)['impressions'] >= dir_grouped_df.get_group(t)['impressions']\n",
    "            .quantile(q=0.8, interpolation='lower')]\n",
    "        mean_ctr_list.append(tmp_df['ctr'].mean())\n",
    "        modified_dataframe = modified_dataframe.append(tmp_df, ignore_index=True)\n",
    "\n",
    "    # 1. The box plot\n",
    "    box_fig = px.box(modified_dataframe,\n",
    "    x='position label',\n",
    "    y='ctr',\n",
    "    title=f'{key} directory CTR distribution based on position',\n",
    "    points='all',\n",
    "    color='position label',\n",
    "    labels={'position label': 'Position', 'ctr': 'CTR'})\n",
    "\n",
    "    # Showing all ten x-axes ticks\n",
    "    box_fig.update_xaxes(tickvals=list(range(1, 11)))\n",
    "\n",
    "    # Changing the y-axes tick format to percentage\n",
    "    box_fig.update_yaxes(tickformat=\".0%\")\n",
    "\n",
    "    # Saving plot to 'output plot images' directory\n",
    "    box_fig.write_image(f'./output plot images/{key} directory-Box plot CTR curve.png')\n",
    "\n",
    "    # 2. The bar plot\n",
    "    bar_fig = px.bar(x=list(range(1, 11)),\n",
    "    y=mean_ctr_list,\n",
    "    title=f'{key} directory mean CTR distribution based on position',\n",
    "    labels={'x': 'Position', 'y': 'CTR'},\n",
    "    text_auto=True)\n",
    "\n",
    "    # Showing all ten x-axes ticks\n",
    "    bar_fig.update_xaxes(tickvals=list(range(1, 11)))\n",
    "\n",
    "    # Changing the y-axes tick format to percentage\n",
    "    bar_fig.update_yaxes(tickformat='.0%')\n",
    "\n",
    "    # Saving plot to 'output plot images' directory\n",
    "    bar_fig.write_image(f'./output plot images/{key} directory-Bar plot CTR curve.png')"
   ]
  },
  {
   "cell_type": "code",
   "execution_count": null,
   "id": "0ac97656-2150-4f2c-b4ea-f80f6ae1876b",
   "metadata": {},
   "outputs": [],
   "source": [
    "# Looping over directories and executing the 'each_dir_plot' function\n",
    "for name, group in landings_grouped_df:\n",
    "    if name in IMPORTANT_DIRECTORIES:\n",
    "        each_dir_plot(group, name)"
   ]
  }
 ],
 "metadata": {
  "kernelspec": {
   "display_name": "Python 3 (ipykernel)",
   "language": "python",
   "name": "python3"
  },
  "language_info": {
   "codemirror_mode": {
    "name": "ipython",
    "version": 3
   },
   "file_extension": ".py",
   "mimetype": "text/x-python",
   "name": "python",
   "nbconvert_exporter": "python",
   "pygments_lexer": "ipython3",
   "version": "3.9.7"
  }
 },
 "nbformat": 4,
 "nbformat_minor": 5
}
